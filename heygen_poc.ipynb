{
 "cells": [
  {
   "cell_type": "code",
   "execution_count": null,
   "id": "ff16dd69-a1ba-4f9a-896c-188cdcfc5e5e",
   "metadata": {},
   "outputs": [],
   "source": [
    "# main.py\n",
    "from functions import generate_response, generate_video, download_video, reduce_video_size\n",
    "from IPython.display import Video, display\n",
    "\n",
    "\n",
    "OPENAI_API_KEY = input(\"OPENAI_API_KEY : \")\n",
    "HEYGEN_API_KEY = input(\"HEYGEN_API_KEY : \")\n",
    "\n",
    "\n",
    "avatar_id = \"c1f463314f814bef8bf4487c5566271b\"\n",
    "voice_id = \"cc817ff62b454f90afae67f52c6b77bc\"\n",
    "\n",
    "\n",
    "for i in range(5):\n",
    "    user_message = input(f\"Vous ({i+1}/5): \")\n",
    "    response_text = generate_response(user_message, OPENAI_API_KEY)\n",
    "    video_id = generate_video(avatar_id, voice_id, response_text, HEYGEN_API_KEY)\n",
    "    \n",
    "    if video_id and video_id != 'ID non trouvé':\n",
    "        download_path = f\"video_downloaded_{i+1}.mp4\"\n",
    "        if download_video(video_id, HEYGEN_API_KEY, download_path):\n",
    "            output_path = f\"video_reduced_{i+1}.mp4\"\n",
    "            reduce_video_size(download_path, output_path)\n",
    "            display(Video(output_path))\n",
    "    else:\n",
    "        print(\"La génération de la vidéo a échoué.\")"
   ]
  }
 ],
 "metadata": {
  "kernelspec": {
   "display_name": "Python 3 (ipykernel)",
   "language": "python",
   "name": "python3"
  },
  "language_info": {
   "codemirror_mode": {
    "name": "ipython",
    "version": 3
   },
   "file_extension": ".py",
   "mimetype": "text/x-python",
   "name": "python",
   "nbconvert_exporter": "python",
   "pygments_lexer": "ipython3",
   "version": "3.10.7"
  }
 },
 "nbformat": 4,
 "nbformat_minor": 5
}
